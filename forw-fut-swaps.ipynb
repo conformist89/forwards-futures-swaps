{
 "cells": [
  {
   "cell_type": "code",
   "execution_count": 1,
   "id": "f99ce249-419c-4fdd-9006-95bbbb79f919",
   "metadata": {},
   "outputs": [],
   "source": [
    "import pandas as pd\n",
    "import numpy as np "
   ]
  },
  {
   "cell_type": "code",
   "execution_count": null,
   "id": "13bceee8-0a08-4b31-84e4-71178be871fc",
   "metadata": {},
   "outputs": [],
   "source": [
    "class ForwardContract:\n",
    "    def __init__(self, price, maturity, rsk_fr_rate):\n",
    "        self.price = price\n",
    "        self.maturity = maturity\n",
    "        self.rsk_fr_rate = rsk_fr_rate\n",
    "\n",
    "        def no_income_price(self):\n",
    "            return price*np.exp(maturity * risk_fr_rate)\n",
    "\n",
    "        def income_price(self, incom):\n",
    "            return (price - incom)*np.exp(maturity * risk_fr_rate)\n",
    "\n",
    "        def income_rate_price(self, incom_rate):\n",
    "            return price*np.exp(maturity * (risk_fr_rate - incom_rate))"
   ]
  }
 ],
 "metadata": {
  "kernelspec": {
   "display_name": "Python 3.12 (Data Science)",
   "language": "python",
   "name": "python312"
  },
  "language_info": {
   "codemirror_mode": {
    "name": "ipython",
    "version": 3
   },
   "file_extension": ".py",
   "mimetype": "text/x-python",
   "name": "python",
   "nbconvert_exporter": "python",
   "pygments_lexer": "ipython3",
   "version": "3.12.11"
  }
 },
 "nbformat": 4,
 "nbformat_minor": 5
}
